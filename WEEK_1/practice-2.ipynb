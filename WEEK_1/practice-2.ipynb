{
 "cells": [
  {
   "cell_type": "markdown",
   "id": "4505f8e8-0074-453f-9ee9-3e2e136c4616",
   "metadata": {},
   "source": [
    "### Practice 2"
   ]
  },
  {
   "cell_type": "code",
   "execution_count": 5,
   "id": "035d2f0a-5b92-486a-8a0d-fdca0fae40d4",
   "metadata": {},
   "outputs": [],
   "source": [
    "#importing the OpenCV library\n",
    "import cv2"
   ]
  },
  {
   "cell_type": "code",
   "execution_count": 6,
   "id": "ed953715-7f0a-44ae-b604-a2224efe415d",
   "metadata": {},
   "outputs": [],
   "source": [
    "#path\n",
    "path = 'img/lagos.png'\n",
    "\n",
    "#reading the image using imread() function\n",
    "img = cv2.imread(path, 0)"
   ]
  },
  {
   "cell_type": "code",
   "execution_count": 7,
   "id": "852f068e-02ca-44dc-a418-81bc9d2ee99a",
   "metadata": {},
   "outputs": [],
   "source": [
    "window_name = 'Greyscale Lagos'"
   ]
  },
  {
   "cell_type": "code",
   "execution_count": 8,
   "id": "f02571c2-b38d-4545-9022-aa7ab23db4bc",
   "metadata": {},
   "outputs": [],
   "source": [
    "cv2.imshow(window_name, img)\n",
    "cv2.waitKey(0)\n",
    "cv2.destroyAllWindows()"
   ]
  },
  {
   "cell_type": "code",
   "execution_count": null,
   "id": "16760e70-ef67-4fb3-8736-a860fe09b443",
   "metadata": {},
   "outputs": [],
   "source": []
  },
  {
   "cell_type": "code",
   "execution_count": null,
   "id": "686f4d16-f15f-460a-a089-8517446d6f0d",
   "metadata": {},
   "outputs": [],
   "source": []
  }
 ],
 "metadata": {
  "kernelspec": {
   "display_name": "Python 3 (ipykernel)",
   "language": "python",
   "name": "python3"
  },
  "language_info": {
   "codemirror_mode": {
    "name": "ipython",
    "version": 3
   },
   "file_extension": ".py",
   "mimetype": "text/x-python",
   "name": "python",
   "nbconvert_exporter": "python",
   "pygments_lexer": "ipython3",
   "version": "3.11.7"
  }
 },
 "nbformat": 4,
 "nbformat_minor": 5
}
