{
 "cells": [
  {
   "cell_type": "markdown",
   "id": "e62f8de5-30d7-4b97-8c55-e9f6d8d77776",
   "metadata": {},
   "source": [
    "### Practice 3"
   ]
  },
  {
   "cell_type": "code",
   "execution_count": 33,
   "id": "61a188fa-e7d3-45ac-ae0b-ad48f19b12b6",
   "metadata": {},
   "outputs": [],
   "source": [
    "#importing cv2\n",
    "import cv2\n",
    "#importing os module\n",
    "import os"
   ]
  },
  {
   "cell_type": "code",
   "execution_count": 34,
   "id": "54c01d06-2a61-4c30-bd46-7f1cff0adba0",
   "metadata": {},
   "outputs": [],
   "source": [
    "image_path = r'C:\\Users\\HP\\Desktop\\class-notes\\year-4-1st-semester\\CSC 418 - Special Topics In Computer Science\\cokwuokeiCSC418\\WEEK_1\\img\\lagos.png'\n",
    "directory = r'C:\\Users\\HP\\Desktop\\class-notes\\year-4-1st-semester\\CSC 418 - Special Topics In Computer Science\\cokwuokeiCSC418\\WEEK_1\\img'"
   ]
  },
  {
   "cell_type": "code",
   "execution_count": 35,
   "id": "b8542321-a41f-4915-b47c-3497034e6f88",
   "metadata": {},
   "outputs": [],
   "source": [
    "img = cv2.imread(image_path,0)"
   ]
  },
  {
   "cell_type": "code",
   "execution_count": 36,
   "id": "ba118cc5-559e-435f-ae22-0723ae5b21e3",
   "metadata": {},
   "outputs": [
    {
     "name": "stdout",
     "output_type": "stream",
     "text": [
      "Before saving image:\n",
      "['.ipynb_checkpoints', 'lagos.png']\n",
      "After saving image:\n",
      "['.ipynb_checkpoints', 'lagos.png', 'lagosgray2.png']\n",
      "Successfully saved\n"
     ]
    }
   ],
   "source": [
    "os.chdir(directory)\n",
    "\n",
    "#list files and directories\n",
    "print(\"Before saving image:\")\n",
    "print(os.listdir(directory))\n",
    "\n",
    "#filename\n",
    "filename = \"lagosgray2.png\"\n",
    "\n",
    "#use cv2.imwrite() method save the image\n",
    "cv2.imwrite(filename, img)\n",
    "\n",
    "print(\"After saving image:\")\n",
    "print(os.listdir(directory))\n",
    "print(\"Successfully saved\")"
   ]
  },
  {
   "cell_type": "code",
   "execution_count": null,
   "id": "1522a6f2-7f3c-4870-81c2-c49ff45ebe59",
   "metadata": {},
   "outputs": [],
   "source": []
  }
 ],
 "metadata": {
  "kernelspec": {
   "display_name": "Python 3 (ipykernel)",
   "language": "python",
   "name": "python3"
  },
  "language_info": {
   "codemirror_mode": {
    "name": "ipython",
    "version": 3
   },
   "file_extension": ".py",
   "mimetype": "text/x-python",
   "name": "python",
   "nbconvert_exporter": "python",
   "pygments_lexer": "ipython3",
   "version": "3.11.7"
  }
 },
 "nbformat": 4,
 "nbformat_minor": 5
}
