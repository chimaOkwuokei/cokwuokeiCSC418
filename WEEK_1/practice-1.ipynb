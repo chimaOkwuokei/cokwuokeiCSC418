{
 "cells": [
  {
   "cell_type": "markdown",
   "id": "39424b96-2b94-479c-89c9-c140ca7ea866",
   "metadata": {},
   "source": [
    "### Practice 1"
   ]
  },
  {
   "cell_type": "code",
   "execution_count": 6,
   "id": "8ddaf83c-7680-401a-8abe-975449d90451",
   "metadata": {},
   "outputs": [],
   "source": [
    "#importing the OpenCV library\n",
    "import cv2"
   ]
  },
  {
   "cell_type": "code",
   "execution_count": 3,
   "id": "8314ff70-163a-45c0-a3fd-de87684de635",
   "metadata": {},
   "outputs": [
    {
     "name": "stdout",
     "output_type": "stream",
     "text": [
      "4.9.0\n"
     ]
    }
   ],
   "source": [
    "print(cv2.__version__)"
   ]
  },
  {
   "cell_type": "code",
   "execution_count": 7,
   "id": "a8aee85c-0c00-41a9-a63b-1168d84318f1",
   "metadata": {},
   "outputs": [],
   "source": [
    "#path\n",
    "path = 'img/lagos.png'\n",
    "\n",
    "#reading the image using imread() function\n",
    "img = cv2.imread(path)"
   ]
  },
  {
   "cell_type": "code",
   "execution_count": 8,
   "id": "c2712ef3-14d7-4f2a-9b03-6a7188cc9a12",
   "metadata": {},
   "outputs": [],
   "source": [
    "window_name = \"Display Image\""
   ]
  },
  {
   "cell_type": "code",
   "execution_count": 9,
   "id": "51ac88ce-6cb7-4127-b049-d2df8a2ee4c9",
   "metadata": {},
   "outputs": [],
   "source": [
    "# display the image\n",
    "cv2.imshow(window_name, img)\n",
    "cv2.waitKey(0)\n",
    "cv2.destroyAllWindows()"
   ]
  },
  {
   "cell_type": "code",
   "execution_count": null,
   "id": "867eb2de-21b1-48ce-95bd-5ad75c6fc9c6",
   "metadata": {},
   "outputs": [],
   "source": []
  }
 ],
 "metadata": {
  "kernelspec": {
   "display_name": "Python 3 (ipykernel)",
   "language": "python",
   "name": "python3"
  },
  "language_info": {
   "codemirror_mode": {
    "name": "ipython",
    "version": 3
   },
   "file_extension": ".py",
   "mimetype": "text/x-python",
   "name": "python",
   "nbconvert_exporter": "python",
   "pygments_lexer": "ipython3",
   "version": "3.11.7"
  }
 },
 "nbformat": 4,
 "nbformat_minor": 5
}
