{
 "cells": [
  {
   "cell_type": "markdown",
   "id": "343c5669-04d0-4c3d-8062-edd26ee05f7a",
   "metadata": {},
   "source": [
    "### Practice 2 - addition of images"
   ]
  },
  {
   "cell_type": "code",
   "execution_count": 3,
   "id": "356a6df3-c607-4512-b95b-575245f9fc4b",
   "metadata": {},
   "outputs": [],
   "source": [
    "import cv2\n",
    "\n",
    "image1 = cv2.imread('img/sst.png')\n",
    "image2 = cv2.imread('img/sst-foyer.jpg')\n",
    "\n",
    "#resize images\n",
    "image1 = cv2.resize(image1, (500,400))\n",
    "image2 = cv2.resize(image2, (500,400))\n",
    "\n",
    "#cv2.addweighted wth applied parameters\n",
    "addImage = cv2.addWeighted(image1, 0.5, image2, 0.9, 0)\n",
    "\n",
    "cv2.imshow(\"Weighted Image\", addImage)\n",
    "\n",
    "#deallocate any associated memeory usage\n",
    "if cv2.waitKey(0) & 0xff == 27:\n",
    "    cv2.destroyAllWindows()"
   ]
  },
  {
   "cell_type": "code",
   "execution_count": null,
   "id": "74645eaf-75e5-464a-9caf-7b5538509b0a",
   "metadata": {},
   "outputs": [],
   "source": []
  }
 ],
 "metadata": {
  "kernelspec": {
   "display_name": "Python 3 (ipykernel)",
   "language": "python",
   "name": "python3"
  },
  "language_info": {
   "codemirror_mode": {
    "name": "ipython",
    "version": 3
   },
   "file_extension": ".py",
   "mimetype": "text/x-python",
   "name": "python",
   "nbconvert_exporter": "python",
   "pygments_lexer": "ipython3",
   "version": "3.11.7"
  }
 },
 "nbformat": 4,
 "nbformat_minor": 5
}
