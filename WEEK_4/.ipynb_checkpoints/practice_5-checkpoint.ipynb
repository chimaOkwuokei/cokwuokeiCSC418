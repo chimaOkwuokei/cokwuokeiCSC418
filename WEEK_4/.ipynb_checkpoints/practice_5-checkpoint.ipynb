{
 "cells": [
  {
   "cell_type": "markdown",
   "id": "267d882f-b4ee-4ff9-a49d-1713ffbe5e11",
   "metadata": {},
   "source": [
    "### Canny Edge Detection"
   ]
  },
  {
   "cell_type": "code",
   "execution_count": 2,
   "id": "354c79eb-5c1c-4a18-8606-6b17b65ed7cb",
   "metadata": {},
   "outputs": [],
   "source": [
    "import cv2\n",
    "\n",
    "#load image\n",
    "image = cv2.imread('img/wole.png', cv2.IMREAD_GRAYSCALE)\n",
    "\n",
    "#resize\n",
    "image = cv2.resize(image, (400,400))\n",
    "\n",
    "# apply canny edge detection\n",
    "edges = cv2.Canny(image,100,200)\n",
    "\n",
    "#display the original image and canny edges\n",
    "cv2.imshow('Original', image)\n",
    "cv2.imshow('Canny Edges', edges)\n",
    "\n",
    "#wait for a key press and close all windows\n",
    "cv2.waitKey(0)\n",
    "cv2.destroyAllWindows()"
   ]
  },
  {
   "cell_type": "code",
   "execution_count": null,
   "id": "31a55d11-ae2f-4558-b8f9-626bff6b5c72",
   "metadata": {},
   "outputs": [],
   "source": []
  }
 ],
 "metadata": {
  "kernelspec": {
   "display_name": "Python 3 (ipykernel)",
   "language": "python",
   "name": "python3"
  },
  "language_info": {
   "codemirror_mode": {
    "name": "ipython",
    "version": 3
   },
   "file_extension": ".py",
   "mimetype": "text/x-python",
   "name": "python",
   "nbconvert_exporter": "python",
   "pygments_lexer": "ipython3",
   "version": "3.11.7"
  }
 },
 "nbformat": 4,
 "nbformat_minor": 5
}
