{
 "cells": [
  {
   "cell_type": "markdown",
   "id": "7f1caeec-f4fa-4df6-a86f-efc4126cc984",
   "metadata": {},
   "source": [
    "### Sobel Edge Detection"
   ]
  },
  {
   "cell_type": "code",
   "execution_count": 6,
   "id": "1deb039d-5d11-4452-b20e-7f513289ba3a",
   "metadata": {},
   "outputs": [],
   "source": [
    "#Sobel Edge Detection\n",
    "import cv2\n",
    "import numpy as np\n",
    "\n",
    "#load the image\n",
    "image = cv2.imread('img/wole.png', cv2.IMREAD_GRAYSCALE)\n",
    "\n",
    "#resize images\n",
    "image = cv2.resize(image,(500,400))\n",
    "\n",
    "#Apply sobel edge detection\n",
    "sobel_x = cv2.Sobel(image, cv2.CV_64F,1,0,ksize=3)\n",
    "sobel_y = cv2.Sobel(image, cv2.CV_64F,0,1,ksize=3)\n",
    "\n",
    "#Combine the gradient images\n",
    "sobel_combined = cv2.magnitude(sobel_x, sobel_y)\n",
    "\n",
    "#display the original image and the sobel edges\n",
    "cv2.imshow('Original', image)\n",
    "cv2.imshow('Sobel Edges', np.uint8(sobel_combined))\n",
    "\n",
    "#Wait for a key press and close all windows\n",
    "cv2.waitKey(0)\n",
    "cv2.destroyAllWindows()"
   ]
  },
  {
   "cell_type": "code",
   "execution_count": null,
   "id": "45cfbada-e2ae-40c4-b473-2fa0a2e56ec9",
   "metadata": {},
   "outputs": [],
   "source": []
  }
 ],
 "metadata": {
  "kernelspec": {
   "display_name": "Python 3 (ipykernel)",
   "language": "python",
   "name": "python3"
  },
  "language_info": {
   "codemirror_mode": {
    "name": "ipython",
    "version": 3
   },
   "file_extension": ".py",
   "mimetype": "text/x-python",
   "name": "python",
   "nbconvert_exporter": "python",
   "pygments_lexer": "ipython3",
   "version": "3.11.7"
  }
 },
 "nbformat": 4,
 "nbformat_minor": 5
}
