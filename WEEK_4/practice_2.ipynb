{
 "cells": [
  {
   "cell_type": "markdown",
   "id": "056f8bb3-7afb-4476-a7f9-064b37960e13",
   "metadata": {},
   "source": [
    "### Prewitt Edge Detection"
   ]
  },
  {
   "cell_type": "code",
   "execution_count": 1,
   "id": "a8764e52-dab4-45d1-8787-11ddba24eb2c",
   "metadata": {},
   "outputs": [],
   "source": [
    "import cv2\n",
    "import numpy as np\n",
    "\n",
    "#load image\n",
    "image = cv2.imread('img/wole.png', cv2.IMREAD_GRAYSCALE)\n",
    "\n",
    "#resize images\n",
    "image = cv2.resize(image, (500,400))\n",
    "\n",
    "#define prewitt kernels\n",
    "kernel_x = np.array([[-1,-1,-1],\n",
    "                    [0,0,0],\n",
    "                    [1,1,1]])\n",
    "kernel_y = np.array([[-1,0,1],\n",
    "                    [-1,0,1],\n",
    "                    [-1,0,1]])\n",
    "\n",
    "#Apply prewitt edge detection\n",
    "prewitt_x = cv2.filter2D(image, -1, kernel_x)\n",
    "prewitt_y = cv2.filter2D(image, -1, kernel_y)\n",
    "\n",
    "#compute magnitude of gradients manually\n",
    "prewitt_combined = np.sqrt(np.square(prewitt_x) + np.square(prewitt_y))\n",
    "\n",
    "#display the original image and prewitt edges\n",
    "cv2.imshow('Original', image)\n",
    "cv2.imshow('Prewitt Edges', np.uint8(prewitt_combined))\n",
    "\n",
    "#wait for a key press and close all windows\n",
    "cv2.waitKey(0)\n",
    "cv2.destroyAllWindows()"
   ]
  },
  {
   "cell_type": "code",
   "execution_count": null,
   "id": "2ecc6b47-8ab0-4f17-88df-0aa9a099abdc",
   "metadata": {},
   "outputs": [],
   "source": []
  }
 ],
 "metadata": {
  "kernelspec": {
   "display_name": "Python 3 (ipykernel)",
   "language": "python",
   "name": "python3"
  },
  "language_info": {
   "codemirror_mode": {
    "name": "ipython",
    "version": 3
   },
   "file_extension": ".py",
   "mimetype": "text/x-python",
   "name": "python",
   "nbconvert_exporter": "python",
   "pygments_lexer": "ipython3",
   "version": "3.11.7"
  }
 },
 "nbformat": 4,
 "nbformat_minor": 5
}
