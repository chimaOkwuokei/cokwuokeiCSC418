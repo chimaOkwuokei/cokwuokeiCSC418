{
 "cells": [
  {
   "cell_type": "markdown",
   "id": "d300ea32-d6fd-4795-abdc-b6e2b7b8a66f",
   "metadata": {},
   "source": [
    "### Robert Edge Detection"
   ]
  },
  {
   "cell_type": "code",
   "execution_count": 2,
   "id": "4a538acb-c82c-4947-a017-61f8e78eec23",
   "metadata": {},
   "outputs": [],
   "source": [
    "import cv2\n",
    "import numpy as np\n",
    "\n",
    "#load image\n",
    "image = cv2.imread('img/wole.png', cv2.IMREAD_GRAYSCALE)\n",
    "\n",
    "#perform gaussian blur\n",
    "image = cv2.GaussianBlur(image, (5,5), 0)\n",
    "\n",
    "#define robert kernels\n",
    "kernel_x = np.array([[1,0],\n",
    "                    [0,-1]])\n",
    "kernel_y = np.array([[0,1],\n",
    "                    [-1,0]])\n",
    "\n",
    "#Apply robert edge detection\n",
    "robert_x = cv2.filter2D(image, -1, kernel_x)\n",
    "robert_y = cv2.filter2D(image, -1, kernel_y)\n",
    "\n",
    "#compute magnitude of gradients manually\n",
    "robert_combined = np.sqrt(np.square(robert_x) + np.square(robert_y))\n",
    "\n",
    "#display the original image and robert edges\n",
    "cv2.imshow('Original', image)\n",
    "cv2.imshow('Robert Edges', np.uint8(robert_combined))\n",
    "\n",
    "#wait for a key press and close all windows\n",
    "cv2.waitKey(0)\n",
    "cv2.destroyAllWindows()"
   ]
  },
  {
   "cell_type": "code",
   "execution_count": null,
   "id": "dafd38b2-7898-406a-b028-00e2558dd4bf",
   "metadata": {},
   "outputs": [],
   "source": []
  }
 ],
 "metadata": {
  "kernelspec": {
   "display_name": "Python 3 (ipykernel)",
   "language": "python",
   "name": "python3"
  },
  "language_info": {
   "codemirror_mode": {
    "name": "ipython",
    "version": 3
   },
   "file_extension": ".py",
   "mimetype": "text/x-python",
   "name": "python",
   "nbconvert_exporter": "python",
   "pygments_lexer": "ipython3",
   "version": "3.11.7"
  }
 },
 "nbformat": 4,
 "nbformat_minor": 5
}
