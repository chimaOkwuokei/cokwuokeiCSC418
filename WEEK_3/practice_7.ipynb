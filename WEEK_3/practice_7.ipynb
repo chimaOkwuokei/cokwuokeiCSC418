{
 "cells": [
  {
   "cell_type": "code",
   "execution_count": 5,
   "id": "544c1bce-a080-4dc5-9e7b-29f1ad66f2fb",
   "metadata": {},
   "outputs": [],
   "source": [
    "import cv2 as cv\n",
    "\n",
    "img = cv.imread('img/sst.png')\n",
    "\n",
    "cv.imshow('Original Image', img)\n",
    "cv.waitKey(0)\n",
    "cv.destroyAllWindows()\n",
    "\n",
    "#gaussian blur\n",
    "Gaussian = cv.GaussianBlur(img,(7,7),0)\n",
    "cv.imshow('Gaussian Blurring', Gaussian)\n",
    "cv.waitKey(0)\n",
    "\n",
    "#Median blur\n",
    "median = cv.medianBlur(img,5)\n",
    "cv.imshow('Median Blurring', median)\n",
    "cv.waitKey(0)\n",
    "\n",
    "#Bilateral blur\n",
    "bilateral = cv.bilateralFilter(img,9,75,75)\n",
    "cv.imshow('Bilateral Blurring', bilateral)\n",
    "cv.waitKey(0)\n",
    "cv.destroyAllWindows()"
   ]
  },
  {
   "cell_type": "code",
   "execution_count": null,
   "id": "1a5b1ef3-c648-4ba4-aedd-8303bc2a9657",
   "metadata": {},
   "outputs": [],
   "source": []
  }
 ],
 "metadata": {
  "kernelspec": {
   "display_name": "Python 3 (ipykernel)",
   "language": "python",
   "name": "python3"
  },
  "language_info": {
   "codemirror_mode": {
    "name": "ipython",
    "version": 3
   },
   "file_extension": ".py",
   "mimetype": "text/x-python",
   "name": "python",
   "nbconvert_exporter": "python",
   "pygments_lexer": "ipython3",
   "version": "3.11.7"
  }
 },
 "nbformat": 4,
 "nbformat_minor": 5
}
